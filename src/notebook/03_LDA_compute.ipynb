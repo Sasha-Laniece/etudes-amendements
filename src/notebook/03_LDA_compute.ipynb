{
 "cells": [
  {
   "cell_type": "markdown",
   "metadata": {},
   "source": [
    "# Etude des sujets des amendements PLFSS\n",
    "\n",
    "## Calcul des thématiques"
   ]
  },
  {
   "cell_type": "code",
   "execution_count": 1,
   "metadata": {},
   "outputs": [],
   "source": [
    "#!python -m pip install --upgrade pip"
   ]
  },
  {
   "cell_type": "code",
   "execution_count": 2,
   "metadata": {},
   "outputs": [],
   "source": [
    "#!pip install -q --upgrade pandas sklearn"
   ]
  },
  {
   "cell_type": "code",
   "execution_count": 3,
   "metadata": {},
   "outputs": [],
   "source": [
    "# Put these at the top of every notebook, to get automatic reloading and inline plotting\n",
    "%reload_ext autoreload\n",
    "%autoreload 2\n",
    "%matplotlib inline\n",
    "from IPython.core.interactiveshell import InteractiveShell\n",
    "InteractiveShell.ast_node_interactivity = \"all\""
   ]
  },
  {
   "cell_type": "code",
   "execution_count": 4,
   "metadata": {},
   "outputs": [],
   "source": [
    "import pandas as pd\n",
    "amdt = pd.read_csv('./data/amdt_sans_stopword.csv.gz')"
   ]
  },
  {
   "cell_type": "markdown",
   "metadata": {},
   "source": [
    "# Analyse des thématiques par LDA\n",
    "\n",
    "LDA : https://fr.wikipedia.org/wiki/Allocation_de_Dirichlet_latente"
   ]
  },
  {
   "cell_type": "code",
   "execution_count": 5,
   "metadata": {},
   "outputs": [],
   "source": [
    "from sklearn.decomposition import LatentDirichletAllocation\n",
    "from sklearn.feature_extraction.text import CountVectorizer\n",
    " \n",
    "NUM_TOPICS = 15\n",
    " \n",
    "# vectorizer = CountVectorizer(min_df=5, max_df=0.9, \n",
    "#                              stop_words='french', lowercase=True, \n",
    "#                              token_pattern='[a-zA-Z\\-][a-zA-Z\\-]{2,}')\n",
    "vectorizer = CountVectorizer()\n",
    "data_vectorized = vectorizer.fit_transform(amdt[\"txt_sans_stopword\"])\n",
    " \n",
    "# Build a Latent Dirichlet Allocation Model\n",
    "# n_jobs = -1 to use all CPU core\n",
    "lda_model = LatentDirichletAllocation(n_components=NUM_TOPICS, max_iter=10, learning_method='online', n_jobs = -1)\n",
    "lda_Z = lda_model.fit_transform(data_vectorized)\n"
   ]
  },
  {
   "cell_type": "markdown",
   "metadata": {},
   "source": [
    "### Affecter un sujet à un texte en utilisant le modèle"
   ]
  },
  {
   "cell_type": "code",
   "execution_count": 19,
   "metadata": {},
   "outputs": [
    {
     "name": "stdout",
     "output_type": "stream",
     "text": [
      "[0.00155039 0.04615703 0.00155039 0.2305017  0.0645033  0.00155039\n",
      " 0.04746301 0.00155039 0.00155039 0.31496424 0.00155039 0.02483171\n",
      " 0.00155039 0.25917588 0.00155039] 1.0\n"
     ]
    }
   ],
   "source": [
    "text = \"Pour les entreprises de moins de 11 salariés, l’employeur est autorisé à attribuer une fois par an, à l’ensemble des salariés qu’il emploie, la prime exceptionnelle de pouvoir d’achat, dans les conditions prévues au V. »II. – En conséquence, compléter cet article par les deux alinéas suivants\"\n",
    "x = lda_model.transform(vectorizer.transform([text]))[0]\n",
    "print(x, x.sum())"
   ]
  },
  {
   "cell_type": "code",
   "execution_count": 20,
   "metadata": {},
   "outputs": [
    {
     "data": {
      "text/plain": [
       "(4797, 15)"
      ]
     },
     "execution_count": 20,
     "metadata": {},
     "output_type": "execute_result"
    }
   ],
   "source": [
    "lda_Z.shape"
   ]
  },
  {
   "cell_type": "code",
   "execution_count": 7,
   "metadata": {},
   "outputs": [
    {
     "data": {
      "text/plain": [
       "array([[4.97513027e-04, 4.97512830e-04, 4.97513093e-04, 4.97512548e-04,\n",
       "        4.97513449e-04, 4.97512693e-04, 4.97512702e-04, 9.93034817e-01,\n",
       "        4.97513032e-04, 4.97513191e-04, 4.97513699e-04, 4.97514082e-04,\n",
       "        4.97513127e-04, 4.97512854e-04, 4.97513145e-04]])"
      ]
     },
     "execution_count": 7,
     "metadata": {},
     "output_type": "execute_result"
    }
   ],
   "source": [
    "# lda_Z contient les probabilités d'appartenance à un des S sujets pour chaque document\n",
    "lda_Z[:1]"
   ]
  },
  {
   "cell_type": "code",
   "execution_count": null,
   "metadata": {},
   "outputs": [],
   "source": [
    "## Export model and data"
   ]
  },
  {
   "cell_type": "code",
   "execution_count": 10,
   "metadata": {},
   "outputs": [],
   "source": [
    "import pickle\n",
    "pickle.dump( vectorizer, open( \"./data/amdt_vectorizer.pickle\", \"wb\" ) )\n",
    "pickle.dump( data_vectorized, open( \"./data/amdt_data_vectorized.pickle\", \"wb\" ) )\n",
    "pickle.dump( lda_model, open( \"./data/amdt_lda_model.pickle\", \"wb\" ) )\n",
    "pickle.dump( lda_Z, open( \"./data/amdt_lda_Z.pickle\", \"wb\" ) )"
   ]
  },
  {
   "cell_type": "code",
   "execution_count": null,
   "metadata": {},
   "outputs": [],
   "source": []
  }
 ],
 "metadata": {
  "kernelspec": {
   "display_name": "Python 3",
   "language": "python",
   "name": "python3"
  },
  "language_info": {
   "codemirror_mode": {
    "name": "ipython",
    "version": 3
   },
   "file_extension": ".py",
   "mimetype": "text/x-python",
   "name": "python",
   "nbconvert_exporter": "python",
   "pygments_lexer": "ipython3",
   "version": "3.8.6"
  }
 },
 "nbformat": 4,
 "nbformat_minor": 5
}
